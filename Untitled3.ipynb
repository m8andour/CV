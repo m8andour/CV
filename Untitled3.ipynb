{
 "cells": [
  {
   "cell_type": "code",
   "execution_count": null,
   "metadata": {
    "colab": {
     "base_uri": "https://localhost:8080/"
    },
    "executionInfo": {
     "elapsed": 8633,
     "status": "ok",
     "timestamp": 1746787173706,
     "user": {
      "displayName": "diaa tharwat",
      "userId": "02468971640804185060"
     },
     "user_tz": -180
    },
    "id": "2N3OKW15nmRc",
    "outputId": "13a74069-c67f-4a01-dd43-25985b5a291e"
   },
   "outputs": [
    {
     "name": "stdout",
     "output_type": "stream",
     "text": [
      "Drive already mounted at /content/drive; to attempt to forcibly remount, call drive.mount(\"/content/drive\", force_remount=True).\n",
      "Google Drive mounted successfully at /content/drive.\n",
      "\n",
      "Google Drive output directory checked/created: /content/drive/MyDrive/my_fashion_model_outputs\n"
     ]
    }
   ],
   "source": [
    "import os\n",
    "import zipfile \n",
    "import numpy as np \n",
    "from PIL import Image \n",
    "\n",
    "import matplotlib.pyplot as plt \n",
    "import seaborn as sns \n",
    "\n",
    "import tensorflow as tf \n",
    "from tensorflow.keras.preprocessing.image import ImageDataGenerator \n",
    "from tensorflow.keras.models import Sequential \n",
    "from tensorflow.keras.layers import Dense, Flatten, Dropout, GlobalAveragePooling2D \n",
    "from tensorflow.keras.applications import MobileNetV2 \n",
    "from tensorflow.keras.callbacks import ModelCheckpoint, EarlyStopping \n",
    "\n",
    "from sklearn.model_selection import train_test_split \n",
    "from sklearn.preprocessing import LabelEncoder \n",
    "\n",
    "try:\n",
    "    from google.colab import drive\n",
    "    drive.mount('/content/drive')\n",
    "    print(\"Google Drive mounted successfully at /content/drive.\")\n",
    "except Exception as e:\n",
    "    print(f\"Could not mount Google Drive: {e}\")\n",
    "    print(\"Proceeding without Google Drive mount. You will not be able to save files permanently.\")\n",
    "\n",
    "GDRIVE_SAVE_DIR = '/content/drive/MyDrive/my_fashion_model_outputs' \n",
    "os.makedirs(GDRIVE_SAVE_DIR, exist_ok=True)\n",
    "print(f\"\\nGoogle Drive output directory checked/created: {GDRIVE_SAVE_DIR}\")"
   ]
  },
  {
   "cell_type": "code",
   "execution_count": null,
   "metadata": {
    "colab": {
     "base_uri": "https://localhost:8080/"
    },
    "executionInfo": {
     "elapsed": 2425,
     "status": "ok",
     "timestamp": 1746787191602,
     "user": {
      "displayName": "diaa tharwat",
      "userId": "02468971640804185060"
     },
     "user_tz": -180
    },
    "id": "bcrOUTh5oTqp",
    "outputId": "c5555ee6-49f4-46ec-bfce-d36bd766d70b"
   },
   "outputs": [
    {
     "name": "stdout",
     "output_type": "stream",
     "text": [
      "Requirement already satisfied: kaggle in /usr/local/lib/python3.11/dist-packages (1.6.17)\n",
      "Requirement already satisfied: six>=1.10 in /usr/local/lib/python3.11/dist-packages (from kaggle) (1.17.0)\n",
      "Requirement already satisfied: certifi>=2023.7.22 in /usr/local/lib/python3.11/dist-packages (from kaggle) (2025.1.31)\n",
      "Requirement already satisfied: python-dateutil in /usr/local/lib/python3.11/dist-packages (from kaggle) (2.8.2)\n",
      "Requirement already satisfied: requests in /usr/local/lib/python3.11/dist-packages (from kaggle) (2.32.3)\n",
      "Requirement already satisfied: tqdm in /usr/local/lib/python3.11/dist-packages (from kaggle) (4.67.1)\n",
      "Requirement already satisfied: python-slugify in /usr/local/lib/python3.11/dist-packages (from kaggle) (8.0.4)\n",
      "Requirement already satisfied: urllib3 in /usr/local/lib/python3.11/dist-packages (from kaggle) (2.3.0)\n",
      "Requirement already satisfied: bleach in /usr/local/lib/python3.11/dist-packages (from kaggle) (6.2.0)\n",
      "Requirement already satisfied: webencodings in /usr/local/lib/python3.11/dist-packages (from bleach->kaggle) (0.5.1)\n",
      "Requirement already satisfied: text-unidecode>=1.3 in /usr/local/lib/python3.11/dist-packages (from python-slugify->kaggle) (1.3)\n",
      "Requirement already satisfied: charset-normalizer<4,>=2 in /usr/local/lib/python3.11/dist-packages (from requests->kaggle) (3.4.1)\n",
      "Requirement already satisfied: idna<4,>=2.5 in /usr/local/lib/python3.11/dist-packages (from requests->kaggle) (3.10)\n",
      "Kaggle library installed.\n"
     ]
    }
   ],
   "source": [
    "!pip install kaggle\n",
    "print(\"Kaggle library installed.\")"
   ]
  },
  {
   "cell_type": "code",
   "execution_count": null,
   "metadata": {
    "colab": {
     "base_uri": "https://localhost:8080/"
    },
    "executionInfo": {
     "elapsed": 208,
     "status": "ok",
     "timestamp": 1746787202963,
     "user": {
      "displayName": "diaa tharwat",
      "userId": "02468971640804185060"
     },
     "user_tz": -180
    },
    "id": "HTaza6SEoWlL",
    "outputId": "65afc4ca-a3a2-4f4a-d635-82059f90eb2e"
   },
   "outputs": [
    {
     "name": "stdout",
     "output_type": "stream",
     "text": [
      "Checking for kaggle.json at /content/kaggle.json...\n",
      "Found kaggle.json at /content/kaggle.json.\n",
      "Kaggle API key setup complete using manually uploaded file.\n"
     ]
    }
   ],
   "source": [
    "import os\n",
    "\n",
    "uploaded_kaggle_json_path = '/content/kaggle.json'\n",
    "\n",
    "print(f\"Checking for kaggle.json at {uploaded_kaggle_json_path}...\")\n",
    "if os.path.exists(uploaded_kaggle_json_path):\n",
    "    print(f\"Found kaggle.json at {uploaded_kaggle_json_path}.\")\n",
    "    kaggle_dir = os.path.join(os.path.expanduser(\"~\"), \".kaggle\")\n",
    "    os.makedirs(kaggle_dir, exist_ok=True)\n",
    "\n",
    "    destination_path = os.path.join(kaggle_dir, \"kaggle.json\")\n",
    "    !cp \"{uploaded_kaggle_json_path}\" \"{destination_path}\"\n",
    "\n",
    "    !chmod 600 \"{destination_path}\"\n",
    "\n",
    "    print(\"Kaggle API key setup complete using manually uploaded file.\")\n",
    "else:\n",
    "    print(f\"Error: kaggle.json NOT found at {uploaded_kaggle_json_path}.\")\n",
    "    print(\"Please perform the manual upload step described in the comments above BEFORE running this cell.\")\n",
    "    print(\"Ensure the file is named exactly 'kaggle.json' and uploaded to the main /content/ directory.\")"
   ]
  },
  {
   "cell_type": "code",
   "execution_count": null,
   "metadata": {
    "colab": {
     "base_uri": "https://localhost:8080/"
    },
    "executionInfo": {
     "elapsed": 39692,
     "status": "ok",
     "timestamp": 1746787443636,
     "user": {
      "displayName": "diaa tharwat",
      "userId": "02468971640804185060"
     },
     "user_tz": -180
    },
    "id": "uIb-yTn_oZiT",
    "outputId": "fde6090f-4023-417e-d449-c6b58bfe1067"
   },
   "outputs": [
    {
     "name": "stdout",
     "output_type": "stream",
     "text": [
      "\n",
      "Downloading dataset 'paramaggarwal/fashion-product-images-small' to '/content/fashion_data'...\n",
      "Warning: Looks like you're using an outdated API Version, please consider updating (server 1.7.4.2 / client 1.6.17)\n",
      "Dataset URL: https://www.kaggle.com/datasets/paramaggarwal/fashion-product-images-small\n",
      "License(s): MIT\n",
      "Downloading fashion-product-images-small.zip to /content/fashion_data\n",
      " 99% 561M/565M [00:16<00:00, 41.3MB/s]\n",
      "100% 565M/565M [00:16<00:00, 35.7MB/s]\n",
      "Download and extraction process initiated.\n",
      "\n",
      "Expected CSV file path: /content/fashion_data/styles.csv\n",
      "Expected images directory: /content/fashion_data/images\n",
      "\n",
      "Reminder: Data in /content/ is temporary and will be deleted when the Colab session ends.\n"
     ]
    }
   ],
   "source": [
    "import os \n",
    "dataset_name = 'paramaggarwal/fashion-product-images-small'\n",
    "data_dir = '/content/fashion_data' \n",
    "\n",
    "os.makedirs(data_dir, exist_ok=True) \n",
    "\n",
    "print(f\"\\nDownloading dataset '{dataset_name}' to '{data_dir}'...\")\n",
    "!kaggle datasets download -d {dataset_name} -p {data_dir} --unzip\n",
    "print(\"Download and extraction process initiated.\")\n",
    "\n",
    "csv_path = os.path.join(data_dir, 'styles.csv')\n",
    "images_dir = os.path.join(data_dir, 'images')\n",
    "\n",
    "print(f\"\\nExpected CSV file path: {csv_path}\")\n",
    "print(f\"Expected images directory: {images_dir}\")\n",
    "print(\"\\nReminder: Data in /content/ is temporary and will be deleted when the Colab session ends.\")"
   ]
  },
  {
   "cell_type": "code",
   "execution_count": null,
   "metadata": {
    "colab": {
     "base_uri": "https://localhost:8080/"
    },
    "executionInfo": {
     "elapsed": 110,
     "status": "ok",
     "timestamp": 1746787464240,
     "user": {
      "displayName": "diaa tharwat",
      "userId": "02468971640804185060"
     },
     "user_tz": -180
    },
    "id": "QBzCXwNaokoG",
    "outputId": "4a2b560e-62d0-41c5-e0e5-e34f0747394c"
   },
   "outputs": [
    {
     "name": "stdout",
     "output_type": "stream",
     "text": [
      "Listing contents of download directory: /content/fashion_data\n",
      "total 5368\n",
      "drwxr-xr-x 2 root root 1155072 May  9 10:40 images\n",
      "drwxr-xr-x 3 root root    4096 May  9 10:40 myntradataset\n",
      "-rw-r--r-- 1 root root 4332000 May  9 10:44 styles.csv\n",
      "\n",
      "Checking for existence of CSV file at: /content/fashion_data/styles.csv\n",
      "Success: /content/fashion_data/styles.csv found!\n",
      "\n",
      "Checking for existence of images directory at: /content/fashion_data/images\n",
      "Success: /content/fashion_data/images found!\n"
     ]
    }
   ],
   "source": [
    "import os \n",
    "\n",
    "if 'data_dir' in locals() and os.path.exists(data_dir) and \\\n",
    "   'csv_path' in locals() and 'images_dir' in locals():\n",
    "\n",
    "    print(f\"Listing contents of download directory: {data_dir}\")\n",
    "    !ls -l \"{data_dir}\"\n",
    "\n",
    "    print(f\"\\nChecking for existence of CSV file at: {csv_path}\")\n",
    "    if os.path.exists(csv_path):\n",
    "        print(f\"Success: {csv_path} found!\")\n",
    "    else:\n",
    "        print(f\"Error: {csv_path} NOT found at the expected path.\")\n",
    "        print(\"Possible issue: Download/unzip failed in Cell 4 or file unzipped to a subfolder.\")\n",
    "        print(\"Action: Check the output of the 'ls' command above. If the CSV is missing or in a subfolder, re-run Cell 4 and check its output for errors.\")\n",
    "\n",
    "\n",
    "    print(f\"\\nChecking for existence of images directory at: {images_dir}\")\n",
    "    if os.path.exists(images_dir):\n",
    "        print(f\"Success: {images_dir} found!\")\n",
    "\n",
    "    else:\n",
    "        print(f\"Error: {images_dir} NOT found at the expected path.\")\n",
    "        print(\"Action: If this folder is missing, re-run Cell 4 and check its output for errors.\")\n",
    "\n",
    "else:\n",
    "    print(\"Error: Download directory, csv_path, or images_dir not properly defined or accessible. Please check Cells 3 and 4.\")"
   ]
  },
  {
   "cell_type": "code",
   "execution_count": null,
   "metadata": {
    "colab": {
     "base_uri": "https://localhost:8080/"
    },
    "executionInfo": {
     "elapsed": 345,
     "status": "ok",
     "timestamp": 1746787524635,
     "user": {
      "displayName": "diaa tharwat",
      "userId": "02468971640804185060"
     },
     "user_tz": -180
    },
    "id": "_cldlcZQopGI",
    "outputId": "3df48f07-8dd5-4430-df4e-495f88359f17"
   },
   "outputs": [
    {
     "name": "stdout",
     "output_type": "stream",
     "text": [
      "CSV file loaded successfully (bad lines skipped).\n",
      "\n",
      "First 5 rows of the dataframe:\n",
      "      id gender masterCategory subCategory  articleType baseColour  season  \\\n",
      "0  15970    Men        Apparel     Topwear       Shirts  Navy Blue    Fall   \n",
      "1  39386    Men        Apparel  Bottomwear        Jeans       Blue  Summer   \n",
      "2  59263  Women    Accessories     Watches      Watches     Silver  Winter   \n",
      "3  21379    Men        Apparel  Bottomwear  Track Pants      Black    Fall   \n",
      "4  53759    Men        Apparel     Topwear      Tshirts       Grey  Summer   \n",
      "\n",
      "     year   usage                             productDisplayName  \n",
      "0  2011.0  Casual               Turtle Check Men Navy Blue Shirt  \n",
      "1  2012.0  Casual             Peter England Men Party Blue Jeans  \n",
      "2  2016.0  Casual                       Titan Women Silver Watch  \n",
      "3  2011.0  Casual  Manchester United Men Solid Black Track Pants  \n",
      "4  2012.0  Casual                          Puma Men Grey T-shirt  \n",
      "\n",
      "Dataframe Info:\n",
      "<class 'pandas.core.frame.DataFrame'>\n",
      "RangeIndex: 44424 entries, 0 to 44423\n",
      "Data columns (total 10 columns):\n",
      " #   Column              Non-Null Count  Dtype  \n",
      "---  ------              --------------  -----  \n",
      " 0   id                  44424 non-null  int64  \n",
      " 1   gender              44424 non-null  object \n",
      " 2   masterCategory      44424 non-null  object \n",
      " 3   subCategory         44424 non-null  object \n",
      " 4   articleType         44424 non-null  object \n",
      " 5   baseColour          44409 non-null  object \n",
      " 6   season              44403 non-null  object \n",
      " 7   year                44423 non-null  float64\n",
      " 8   usage               44107 non-null  object \n",
      " 9   productDisplayName  44417 non-null  object \n",
      "dtypes: float64(1), int64(1), object(8)\n",
      "memory usage: 3.4+ MB\n",
      "\n",
      "Exploring 'articleType' column:\n",
      "Number of unique article types: 143\n",
      "\n",
      "Top 20 most frequent article types:\n",
      "articleType\n",
      "Tshirts                  7067\n",
      "Shirts                   3217\n",
      "Casual Shoes             2845\n",
      "Watches                  2542\n",
      "Sports Shoes             2036\n",
      "Kurtas                   1844\n",
      "Tops                     1762\n",
      "Handbags                 1759\n",
      "Heels                    1323\n",
      "Sunglasses               1073\n",
      "Wallets                   936\n",
      "Flip Flops                914\n",
      "Sandals                   897\n",
      "Briefs                    849\n",
      "Belts                     813\n",
      "Backpacks                 724\n",
      "Socks                     686\n",
      "Formal Shoes              637\n",
      "Perfume and Body Mist     613\n",
      "Jeans                     609\n",
      "Name: count, dtype: int64\n"
     ]
    }
   ],
   "source": [
    "import pandas as pd \n",
    "\n",
    "if 'csv_path' in locals() and os.path.exists(csv_path):\n",
    "    try:\n",
    "        df = pd.read_csv(csv_path, on_bad_lines='skip') #\n",
    "\n",
    "        print(\"CSV file loaded successfully (bad lines skipped).\")\n",
    "\n",
    "        print(\"\\nFirst 5 rows of the dataframe:\")\n",
    "        print(df.head())\n",
    "\n",
    "        print(\"\\nDataframe Info:\")\n",
    "        df.info()\n",
    "\n",
    "        print(\"\\nExploring 'articleType' column:\")\n",
    "        num_article_types = df['articleType'].nunique()\n",
    "        print(f\"Number of unique article types: {num_article_types}\")\n",
    "\n",
    "        print(\"\\nTop 20 most frequent article types:\")\n",
    "        print(df['articleType'].value_counts().head(20))\n",
    "\n",
    "    except Exception as e:\n",
    "        print(f\"An error occurred while loading or exploring CSV: {e}\")\n",
    "        df = None \n",
    "else:\n",
    "    print(f\"Error: CSV file not found at {csv_path} or csv_path not defined. Please check Cell 5.\")\n",
    "    df = None"
   ]
  },
  {
   "cell_type": "code",
   "execution_count": null,
   "metadata": {
    "colab": {
     "base_uri": "https://localhost:8080/"
    },
    "executionInfo": {
     "elapsed": 35,
     "status": "ok",
     "timestamp": 1746787643673,
     "user": {
      "displayName": "diaa tharwat",
      "userId": "02468971640804185060"
     },
     "user_tz": -180
    },
    "id": "noXI_XE-p9q2",
    "outputId": "c7b887f8-a236-4ce6-b30a-bc24d18e482c"
   },
   "outputs": [
    {
     "name": "stdout",
     "output_type": "stream",
     "text": [
      "\n",
      "Focusing on the top 20 article types:\n",
      "Dataframe size after filtering: 33146\n",
      "Dataframe size after checking image paths: 33142\n",
      "Label encoding map created.\n",
      "Final number of classes for the model: 20\n"
     ]
    }
   ],
   "source": [
    "from sklearn.preprocessing import LabelEncoder\n",
    "import os \n",
    "\n",
    "if 'df' in locals() and df is not None and 'images_dir' in locals() and os.path.exists(images_dir):\n",
    "    top_n = 20 \n",
    "\n",
    "    top_article_types = df['articleType'].value_counts().nlargest(top_n).index.tolist()\n",
    "    print(f\"\\nFocusing on the top {top_n} article types:\")\n",
    "\n",
    "    df_filtered = df[df['articleType'].isin(top_article_types)].reset_index(drop=True)\n",
    "    print(f\"Dataframe size after filtering: {len(df_filtered)}\")\n",
    "\n",
    "    df_filtered['image_path'] = df_filtered['id'].apply(lambda x: os.path.join(images_dir, f\"{x}.jpg\"))\n",
    "\n",
    "    df_processed = df_filtered[df_filtered['image_path'].apply(os.path.exists)].reset_index(drop=True)\n",
    "    print(f\"Dataframe size after checking image paths: {len(df_processed)}\")\n",
    "\n",
    "    le = LabelEncoder()\n",
    "    df_processed['articleType_encoded'] = le.fit_transform(df_processed['articleType'])\n",
    "\n",
    "\n",
    "    label_map = dict(zip(le.transform(le.classes_), le.classes_))\n",
    "    print(\"Label encoding map created.\")\n",
    "\n",
    "    num_classes = len(label_map)\n",
    "    print(f\"Final number of classes for the model: {num_classes}\")\n",
    "\n",
    "else:\n",
    "    print(\"Cannot process data. Dependencies (df, images_dir) missing or invalid. Check Cells 5 and 6.\")\n",
    "    df_processed = None\n",
    "    label_map = None\n",
    "    num_classes = 0"
   ]
  },
  {
   "cell_type": "code",
   "execution_count": null,
   "metadata": {
    "colab": {
     "base_uri": "https://localhost:8080/"
    },
    "executionInfo": {
     "elapsed": 519,
     "status": "ok",
     "timestamp": 1746787684086,
     "user": {
      "displayName": "diaa tharwat",
      "userId": "02468971640804185060"
     },
     "user_tz": -180
    },
    "id": "bFG5lRzoqMMv",
    "outputId": "801da1ab-80ea-457d-beb2-007a32bfb837"
   },
   "outputs": [
    {
     "name": "stdout",
     "output_type": "stream",
     "text": [
      "\n",
      "Splitting data into training and validation sets...\n",
      "Training data size: 26513\n",
      "Validation data size: 6629\n"
     ]
    }
   ],
   "source": [
    "from sklearn.model_selection import train_test_split\n",
    "\n",
    "if 'df_processed' in locals() and df_processed is not None and len(df_processed) > 0 and 'num_classes' in locals() and num_classes > 0:\n",
    "    print(\"\\nSplitting data into training and validation sets...\")\n",
    "    train_df, val_df = train_test_split(\n",
    "        df_processed,\n",
    "        test_size=0.2, \n",
    "        random_state=42, \n",
    "        stratify=df_processed['articleType_encoded']\n",
    "    )\n",
    "\n",
    "    print(f\"Training data size: {len(train_df)}\")\n",
    "    print(f\"Validation data size: {len(val_df)}\")\n",
    "else:\n",
    "    print(\"Cannot split data as df_processed is not available or is empty. Check Cell 7.\")\n",
    "    train_df, val_df = None, None"
   ]
  },
  {
   "cell_type": "code",
   "execution_count": null,
   "metadata": {
    "colab": {
     "base_uri": "https://localhost:8080/"
    },
    "executionInfo": {
     "elapsed": 250,
     "status": "ok",
     "timestamp": 1746787699889,
     "user": {
      "displayName": "diaa tharwat",
      "userId": "02468971640804185060"
     },
     "user_tz": -180
    },
    "id": "7rC0EDY0qP7d",
    "outputId": "368dc5ea-89d4-4ef6-e3a3-6bc1e0aa1177"
   },
   "outputs": [
    {
     "name": "stdout",
     "output_type": "stream",
     "text": [
      "\n",
      "Setting up Data Generators...\n",
      "Found 26513 validated image filenames belonging to 20 classes.\n",
      "Found 6629 validated image filenames belonging to 20 classes.\n",
      "\n",
      "Data generators created successfully.\n",
      "\n",
      "Steps per epoch: 828\n",
      "Validation steps: 207\n"
     ]
    }
   ],
   "source": [
    "from tensorflow.keras.preprocessing.image import ImageDataGenerator \n",
    "\n",
    "IMG_HEIGHT = 224 \n",
    "IMG_WIDTH = 224\n",
    "BATCH_SIZE = 32 \n",
    "\n",
    "if 'train_df' in locals() and train_df is not None and 'val_df' in locals() and val_df is not None and 'num_classes' in locals() and num_classes > 0:\n",
    "\n",
    "    print(\"\\nSetting up Data Generators...\")\n",
    "    train_datagen = ImageDataGenerator(\n",
    "        rescale=1./255, \n",
    "        rotation_range=15, \n",
    "        width_shift_range=0.1, \n",
    "        height_shift_range=0.1, \n",
    "        shear_range=0.1, \n",
    "        zoom_range=0.1, \n",
    "        horizontal_flip=True, \n",
    "        fill_mode='nearest' \n",
    "    )\n",
    "\n",
    "    val_datagen = ImageDataGenerator(rescale=1./255)\n",
    "\n",
    "\n",
    "    train_generator = train_datagen.flow_from_dataframe(\n",
    "        dataframe=train_df,\n",
    "        x_col='image_path',\n",
    "        y_col='articleType', \n",
    "        target_size=(IMG_HEIGHT, IMG_WIDTH), \n",
    "        batch_size=BATCH_SIZE,\n",
    "        class_mode='categorical', \n",
    "        shuffle=True \n",
    "    )\n",
    "\n",
    "    val_generator = val_datagen.flow_from_dataframe(\n",
    "        dataframe=val_df,\n",
    "        x_col='image_path',\n",
    "        y_col='articleType',\n",
    "        target_size=(IMG_HEIGHT, IMG_WIDTH),\n",
    "        batch_size=BATCH_SIZE,\n",
    "        class_mode='categorical',\n",
    "        shuffle=False\n",
    "    )\n",
    "\n",
    "    generator_class_indices = train_generator.class_indices\n",
    "    generator_label_map = {v: k for k, v in generator_class_indices.items()} \n",
    "\n",
    "    print(\"\\nData generators created successfully.\")\n",
    "\n",
    "\n",
    "    steps_per_epoch = train_generator.n // train_generator.batch_size\n",
    "    validation_steps = val_generator.n // val_generator.batch_size\n",
    "    print(f\"\\nSteps per epoch: {steps_per_epoch}\")\n",
    "    print(f\"Validation steps: {validation_steps}\")\n",
    "\n",
    "else:\n",
    "    print(\"Cannot create generators. Training/validation data or number of classes not available. Check Cells 8.\")\n",
    "    train_generator, val_generator = None, None\n",
    "    generator_label_map = None\n",
    "    steps_per_epoch = 0\n",
    "    validation_steps = 0"
   ]
  },
  {
   "cell_type": "code",
   "execution_count": null,
   "metadata": {
    "colab": {
     "base_uri": "https://localhost:8080/",
     "height": 412
    },
    "executionInfo": {
     "elapsed": 3639,
     "status": "ok",
     "timestamp": 1746787717587,
     "user": {
      "displayName": "diaa tharwat",
      "userId": "02468971640804185060"
     },
     "user_tz": -180
    },
    "id": "GA6vLm_5qTYU",
    "outputId": "57a3f990-0d65-45b5-cbcb-76b1bbd5dc05"
   },
   "outputs": [
    {
     "name": "stdout",
     "output_type": "stream",
     "text": [
      "\n",
      "Building model...\n",
      "Downloading data from https://storage.googleapis.com/tensorflow/keras-applications/mobilenet_v2/mobilenet_v2_weights_tf_dim_ordering_tf_kernels_1.0_224_no_top.h5\n",
      "\u001b[1m9406464/9406464\u001b[0m \u001b[32m━━━━━━━━━━━━━━━━━━━━\u001b[0m\u001b[37m\u001b[0m \u001b[1m1s\u001b[0m 0us/step\n"
     ]
    },
    {
     "data": {
      "text/html": [
       "<pre style=\"white-space:pre;overflow-x:auto;line-height:normal;font-family:Menlo,'DejaVu Sans Mono',consolas,'Courier New',monospace\"><span style=\"font-weight: bold\">Model: \"sequential\"</span>\n",
       "</pre>\n"
      ],
      "text/plain": [
       "\u001b[1mModel: \"sequential\"\u001b[0m\n"
      ]
     },
     "metadata": {},
     "output_type": "display_data"
    },
    {
     "data": {
      "text/html": [
       "<pre style=\"white-space:pre;overflow-x:auto;line-height:normal;font-family:Menlo,'DejaVu Sans Mono',consolas,'Courier New',monospace\">┏━━━━━━━━━━━━━━━━━━━━━━━━━━━━━━━━━━━━━━┳━━━━━━━━━━━━━━━━━━━━━━━━━━━━━┳━━━━━━━━━━━━━━━━━┓\n",
       "┃<span style=\"font-weight: bold\"> Layer (type)                         </span>┃<span style=\"font-weight: bold\"> Output Shape                </span>┃<span style=\"font-weight: bold\">         Param # </span>┃\n",
       "┡━━━━━━━━━━━━━━━━━━━━━━━━━━━━━━━━━━━━━━╇━━━━━━━━━━━━━━━━━━━━━━━━━━━━━╇━━━━━━━━━━━━━━━━━┩\n",
       "│ mobilenetv2_1.00_224 (<span style=\"color: #0087ff; text-decoration-color: #0087ff\">Functional</span>)    │ (<span style=\"color: #00d7ff; text-decoration-color: #00d7ff\">None</span>, <span style=\"color: #00af00; text-decoration-color: #00af00\">7</span>, <span style=\"color: #00af00; text-decoration-color: #00af00\">7</span>, <span style=\"color: #00af00; text-decoration-color: #00af00\">1280</span>)          │       <span style=\"color: #00af00; text-decoration-color: #00af00\">2,257,984</span> │\n",
       "├──────────────────────────────────────┼─────────────────────────────┼─────────────────┤\n",
       "│ global_average_pooling2d             │ (<span style=\"color: #00d7ff; text-decoration-color: #00d7ff\">None</span>, <span style=\"color: #00af00; text-decoration-color: #00af00\">1280</span>)                │               <span style=\"color: #00af00; text-decoration-color: #00af00\">0</span> │\n",
       "│ (<span style=\"color: #0087ff; text-decoration-color: #0087ff\">GlobalAveragePooling2D</span>)             │                             │                 │\n",
       "├──────────────────────────────────────┼─────────────────────────────┼─────────────────┤\n",
       "│ dense (<span style=\"color: #0087ff; text-decoration-color: #0087ff\">Dense</span>)                        │ (<span style=\"color: #00d7ff; text-decoration-color: #00d7ff\">None</span>, <span style=\"color: #00af00; text-decoration-color: #00af00\">128</span>)                 │         <span style=\"color: #00af00; text-decoration-color: #00af00\">163,968</span> │\n",
       "├──────────────────────────────────────┼─────────────────────────────┼─────────────────┤\n",
       "│ dropout (<span style=\"color: #0087ff; text-decoration-color: #0087ff\">Dropout</span>)                    │ (<span style=\"color: #00d7ff; text-decoration-color: #00d7ff\">None</span>, <span style=\"color: #00af00; text-decoration-color: #00af00\">128</span>)                 │               <span style=\"color: #00af00; text-decoration-color: #00af00\">0</span> │\n",
       "├──────────────────────────────────────┼─────────────────────────────┼─────────────────┤\n",
       "│ dense_1 (<span style=\"color: #0087ff; text-decoration-color: #0087ff\">Dense</span>)                      │ (<span style=\"color: #00d7ff; text-decoration-color: #00d7ff\">None</span>, <span style=\"color: #00af00; text-decoration-color: #00af00\">20</span>)                  │           <span style=\"color: #00af00; text-decoration-color: #00af00\">2,580</span> │\n",
       "└──────────────────────────────────────┴─────────────────────────────┴─────────────────┘\n",
       "</pre>\n"
      ],
      "text/plain": [
       "┏━━━━━━━━━━━━━━━━━━━━━━━━━━━━━━━━━━━━━━┳━━━━━━━━━━━━━━━━━━━━━━━━━━━━━┳━━━━━━━━━━━━━━━━━┓\n",
       "┃\u001b[1m \u001b[0m\u001b[1mLayer (type)                        \u001b[0m\u001b[1m \u001b[0m┃\u001b[1m \u001b[0m\u001b[1mOutput Shape               \u001b[0m\u001b[1m \u001b[0m┃\u001b[1m \u001b[0m\u001b[1m        Param #\u001b[0m\u001b[1m \u001b[0m┃\n",
       "┡━━━━━━━━━━━━━━━━━━━━━━━━━━━━━━━━━━━━━━╇━━━━━━━━━━━━━━━━━━━━━━━━━━━━━╇━━━━━━━━━━━━━━━━━┩\n",
       "│ mobilenetv2_1.00_224 (\u001b[38;5;33mFunctional\u001b[0m)    │ (\u001b[38;5;45mNone\u001b[0m, \u001b[38;5;34m7\u001b[0m, \u001b[38;5;34m7\u001b[0m, \u001b[38;5;34m1280\u001b[0m)          │       \u001b[38;5;34m2,257,984\u001b[0m │\n",
       "├──────────────────────────────────────┼─────────────────────────────┼─────────────────┤\n",
       "│ global_average_pooling2d             │ (\u001b[38;5;45mNone\u001b[0m, \u001b[38;5;34m1280\u001b[0m)                │               \u001b[38;5;34m0\u001b[0m │\n",
       "│ (\u001b[38;5;33mGlobalAveragePooling2D\u001b[0m)             │                             │                 │\n",
       "├──────────────────────────────────────┼─────────────────────────────┼─────────────────┤\n",
       "│ dense (\u001b[38;5;33mDense\u001b[0m)                        │ (\u001b[38;5;45mNone\u001b[0m, \u001b[38;5;34m128\u001b[0m)                 │         \u001b[38;5;34m163,968\u001b[0m │\n",
       "├──────────────────────────────────────┼─────────────────────────────┼─────────────────┤\n",
       "│ dropout (\u001b[38;5;33mDropout\u001b[0m)                    │ (\u001b[38;5;45mNone\u001b[0m, \u001b[38;5;34m128\u001b[0m)                 │               \u001b[38;5;34m0\u001b[0m │\n",
       "├──────────────────────────────────────┼─────────────────────────────┼─────────────────┤\n",
       "│ dense_1 (\u001b[38;5;33mDense\u001b[0m)                      │ (\u001b[38;5;45mNone\u001b[0m, \u001b[38;5;34m20\u001b[0m)                  │           \u001b[38;5;34m2,580\u001b[0m │\n",
       "└──────────────────────────────────────┴─────────────────────────────┴─────────────────┘\n"
      ]
     },
     "metadata": {},
     "output_type": "display_data"
    },
    {
     "data": {
      "text/html": [
       "<pre style=\"white-space:pre;overflow-x:auto;line-height:normal;font-family:Menlo,'DejaVu Sans Mono',consolas,'Courier New',monospace\"><span style=\"font-weight: bold\"> Total params: </span><span style=\"color: #00af00; text-decoration-color: #00af00\">2,424,532</span> (9.25 MB)\n",
       "</pre>\n"
      ],
      "text/plain": [
       "\u001b[1m Total params: \u001b[0m\u001b[38;5;34m2,424,532\u001b[0m (9.25 MB)\n"
      ]
     },
     "metadata": {},
     "output_type": "display_data"
    },
    {
     "data": {
      "text/html": [
       "<pre style=\"white-space:pre;overflow-x:auto;line-height:normal;font-family:Menlo,'DejaVu Sans Mono',consolas,'Courier New',monospace\"><span style=\"font-weight: bold\"> Trainable params: </span><span style=\"color: #00af00; text-decoration-color: #00af00\">166,548</span> (650.58 KB)\n",
       "</pre>\n"
      ],
      "text/plain": [
       "\u001b[1m Trainable params: \u001b[0m\u001b[38;5;34m166,548\u001b[0m (650.58 KB)\n"
      ]
     },
     "metadata": {},
     "output_type": "display_data"
    },
    {
     "data": {
      "text/html": [
       "<pre style=\"white-space:pre;overflow-x:auto;line-height:normal;font-family:Menlo,'DejaVu Sans Mono',consolas,'Courier New',monospace\"><span style=\"font-weight: bold\"> Non-trainable params: </span><span style=\"color: #00af00; text-decoration-color: #00af00\">2,257,984</span> (8.61 MB)\n",
       "</pre>\n"
      ],
      "text/plain": [
       "\u001b[1m Non-trainable params: \u001b[0m\u001b[38;5;34m2,257,984\u001b[0m (8.61 MB)\n"
      ]
     },
     "metadata": {},
     "output_type": "display_data"
    },
    {
     "name": "stdout",
     "output_type": "stream",
     "text": [
      "Model built successfully.\n"
     ]
    }
   ],
   "source": [
    "from tensorflow.keras.models import Sequential \n",
    "from tensorflow.keras.layers import Dense, Flatten, Dropout, GlobalAveragePooling2D\n",
    "from tensorflow.keras.applications import MobileNetV2\n",
    "import tensorflow as tf \n",
    "\n",
    "if 'num_classes' in locals() and num_classes > 0 and 'IMG_HEIGHT' in locals():\n",
    "    print(\"\\nBuilding model...\")\n",
    "    base_model = MobileNetV2(input_shape=(IMG_HEIGHT, IMG_WIDTH, 3),\n",
    "                             include_top=False, \n",
    "                             weights='imagenet') \n",
    "\n",
    "    base_model.trainable = False\n",
    "\n",
    "    model = Sequential([\n",
    "        base_model, \n",
    "        GlobalAveragePooling2D(),\n",
    "        Dense(128, activation='relu'), \n",
    "        Dropout(0.5),\n",
    "        Dense(num_classes, activation='softmax') \n",
    "    ])\n",
    "\n",
    "    model.summary()\n",
    "    print(\"Model built successfully.\")\n",
    "else:\n",
    "    print(\"Cannot build model. Number of classes or image dimensions not defined/valid. Check Cells 8 and 9.\")\n",
    "    model = None "
   ]
  },
  {
   "cell_type": "code",
   "execution_count": null,
   "metadata": {
    "colab": {
     "base_uri": "https://localhost:8080/"
    },
    "executionInfo": {
     "elapsed": 48,
     "status": "ok",
     "timestamp": 1746787727136,
     "user": {
      "displayName": "diaa tharwat",
      "userId": "02468971640804185060"
     },
     "user_tz": -180
    },
    "id": "TIZXCNgyqW5E",
    "outputId": "dc6637b7-37b5-4dac-eb22-5f46bff54d97"
   },
   "outputs": [
    {
     "name": "stdout",
     "output_type": "stream",
     "text": [
      "\n",
      "Compiling model...\n",
      "Model compiled successfully.\n"
     ]
    }
   ],
   "source": [
    "if 'model' in locals() and model is not None:\n",
    "    print(\"\\nCompiling model...\")\n",
    "    model.compile(optimizer='adam', \n",
    "                  loss='categorical_crossentropy',\n",
    "                  metrics=['accuracy']) \n",
    "\n",
    "    print(\"Model compiled successfully.\")\n",
    "else:\n",
    "    print(\"Cannot compile model as it was not built. Check Cell 10.\")"
   ]
  },
  {
   "cell_type": "code",
   "execution_count": null,
   "metadata": {
    "colab": {
     "base_uri": "https://localhost:8080/",
     "height": 1000
    },
    "executionInfo": {
     "elapsed": 2254572,
     "status": "ok",
     "timestamp": 1746789995839,
     "user": {
      "displayName": "diaa tharwat",
      "userId": "02468971640804185060"
     },
     "user_tz": -180
    },
    "id": "t6G3BABbqZLa",
    "outputId": "d4720895-4efc-40c0-a7d6-4c3ed2adea20"
   },
   "outputs": [
    {
     "name": "stdout",
     "output_type": "stream",
     "text": [
      "\n",
      "Starting training for a maximum of 20 epochs...\n"
     ]
    },
    {
     "name": "stderr",
     "output_type": "stream",
     "text": [
      "/usr/local/lib/python3.11/dist-packages/keras/src/trainers/data_adapters/py_dataset_adapter.py:121: UserWarning: Your `PyDataset` class should call `super().__init__(**kwargs)` in its constructor. `**kwargs` can include `workers`, `use_multiprocessing`, `max_queue_size`. Do not pass these arguments to `fit()`, as they will be ignored.\n",
      "  self._warn_if_super_not_called()\n"
     ]
    },
    {
     "name": "stdout",
     "output_type": "stream",
     "text": [
      "Epoch 1/20\n",
      "\u001b[1m828/828\u001b[0m \u001b[32m━━━━━━━━━━━━━━━━━━━━\u001b[0m\u001b[37m\u001b[0m \u001b[1m0s\u001b[0m 392ms/step - accuracy: 0.6705 - loss: 1.0451\n",
      "Epoch 1: val_accuracy improved from -inf to 0.85069, saving model to /content/drive/MyDrive/my_fashion_model_outputs/best_weights_during_training_01_0.8507.weights.h5\n",
      "\u001b[1m828/828\u001b[0m \u001b[32m━━━━━━━━━━━━━━━━━━━━\u001b[0m\u001b[37m\u001b[0m \u001b[1m349s\u001b[0m 407ms/step - accuracy: 0.6706 - loss: 1.0447 - val_accuracy: 0.8507 - val_loss: 0.4126\n",
      "Epoch 2/20\n",
      "\u001b[1m  1/828\u001b[0m \u001b[37m━━━━━━━━━━━━━━━━━━━━\u001b[0m \u001b[1m23s\u001b[0m 28ms/step - accuracy: 0.8125 - loss: 0.3258"
     ]
    },
    {
     "name": "stderr",
     "output_type": "stream",
     "text": [
      "/usr/local/lib/python3.11/dist-packages/keras/src/trainers/epoch_iterator.py:107: UserWarning: Your input ran out of data; interrupting training. Make sure that your dataset or generator can generate at least `steps_per_epoch * epochs` batches. You may need to use the `.repeat()` function when building your dataset.\n",
      "  self._interrupted_warning()\n"
     ]
    },
    {
     "name": "stdout",
     "output_type": "stream",
     "text": [
      "\n",
      "Epoch 2: val_accuracy improved from 0.85069 to 0.85266, saving model to /content/drive/MyDrive/my_fashion_model_outputs/best_weights_during_training_02_0.8527.weights.h5\n",
      "\u001b[1m828/828\u001b[0m \u001b[32m━━━━━━━━━━━━━━━━━━━━\u001b[0m\u001b[37m\u001b[0m \u001b[1m9s\u001b[0m 11ms/step - accuracy: 0.8125 - loss: 0.3258 - val_accuracy: 0.8527 - val_loss: 0.4121\n",
      "Epoch 3/20\n",
      "\u001b[1m828/828\u001b[0m \u001b[32m━━━━━━━━━━━━━━━━━━━━\u001b[0m\u001b[37m\u001b[0m \u001b[1m0s\u001b[0m 368ms/step - accuracy: 0.8333 - loss: 0.4730\n",
      "Epoch 3: val_accuracy improved from 0.85266 to 0.87530, saving model to /content/drive/MyDrive/my_fashion_model_outputs/best_weights_during_training_03_0.8753.weights.h5\n",
      "\u001b[1m828/828\u001b[0m \u001b[32m━━━━━━━━━━━━━━━━━━━━\u001b[0m\u001b[37m\u001b[0m \u001b[1m381s\u001b[0m 425ms/step - accuracy: 0.8333 - loss: 0.4730 - val_accuracy: 0.8753 - val_loss: 0.3402\n",
      "Epoch 4/20\n",
      "\u001b[1m  1/828\u001b[0m \u001b[37m━━━━━━━━━━━━━━━━━━━━\u001b[0m \u001b[1m22s\u001b[0m 28ms/step - accuracy: 0.8125 - loss: 0.4535\n",
      "Epoch 4: val_accuracy did not improve from 0.87530\n",
      "\u001b[1m828/828\u001b[0m \u001b[32m━━━━━━━━━━━━━━━━━━━━\u001b[0m\u001b[37m\u001b[0m \u001b[1m9s\u001b[0m 11ms/step - accuracy: 0.8125 - loss: 0.4535 - val_accuracy: 0.8718 - val_loss: 0.3463\n",
      "Epoch 5/20\n",
      "\u001b[1m828/828\u001b[0m \u001b[32m━━━━━━━━━━━━━━━━━━━━\u001b[0m\u001b[37m\u001b[0m \u001b[1m0s\u001b[0m 367ms/step - accuracy: 0.8497 - loss: 0.4159\n",
      "Epoch 5: val_accuracy did not improve from 0.87530\n",
      "\u001b[1m828/828\u001b[0m \u001b[32m━━━━━━━━━━━━━━━━━━━━\u001b[0m\u001b[37m\u001b[0m \u001b[1m322s\u001b[0m 389ms/step - accuracy: 0.8497 - loss: 0.4159 - val_accuracy: 0.8727 - val_loss: 0.3482\n",
      "Epoch 6/20\n",
      "\u001b[1m  1/828\u001b[0m \u001b[37m━━━━━━━━━━━━━━━━━━━━\u001b[0m \u001b[1m22s\u001b[0m 28ms/step - accuracy: 0.8438 - loss: 0.3783\n",
      "Epoch 6: val_accuracy did not improve from 0.87530\n",
      "\u001b[1m828/828\u001b[0m \u001b[32m━━━━━━━━━━━━━━━━━━━━\u001b[0m\u001b[37m\u001b[0m \u001b[1m8s\u001b[0m 10ms/step - accuracy: 0.8438 - loss: 0.3783 - val_accuracy: 0.8752 - val_loss: 0.3466\n",
      "Epoch 7/20\n",
      "\u001b[1m828/828\u001b[0m \u001b[32m━━━━━━━━━━━━━━━━━━━━\u001b[0m\u001b[37m\u001b[0m \u001b[1m0s\u001b[0m 375ms/step - accuracy: 0.8577 - loss: 0.3916\n",
      "Epoch 7: val_accuracy improved from 0.87530 to 0.88511, saving model to /content/drive/MyDrive/my_fashion_model_outputs/best_weights_during_training_07_0.8851.weights.h5\n",
      "\u001b[1m828/828\u001b[0m \u001b[32m━━━━━━━━━━━━━━━━━━━━\u001b[0m\u001b[37m\u001b[0m \u001b[1m383s\u001b[0m 400ms/step - accuracy: 0.8577 - loss: 0.3916 - val_accuracy: 0.8851 - val_loss: 0.3152\n",
      "Epoch 8/20\n",
      "\u001b[1m  1/828\u001b[0m \u001b[37m━━━━━━━━━━━━━━━━━━━━\u001b[0m \u001b[1m26s\u001b[0m 32ms/step - accuracy: 0.7500 - loss: 0.6824\n",
      "Epoch 8: val_accuracy did not improve from 0.88511\n",
      "\u001b[1m828/828\u001b[0m \u001b[32m━━━━━━━━━━━━━━━━━━━━\u001b[0m\u001b[37m\u001b[0m \u001b[1m9s\u001b[0m 11ms/step - accuracy: 0.7500 - loss: 0.6824 - val_accuracy: 0.8844 - val_loss: 0.3157\n",
      "Epoch 9/20\n",
      "\u001b[1m828/828\u001b[0m \u001b[32m━━━━━━━━━━━━━━━━━━━━\u001b[0m\u001b[37m\u001b[0m \u001b[1m0s\u001b[0m 371ms/step - accuracy: 0.8615 - loss: 0.3784\n",
      "Epoch 9: val_accuracy did not improve from 0.88511\n",
      "\u001b[1m828/828\u001b[0m \u001b[32m━━━━━━━━━━━━━━━━━━━━\u001b[0m\u001b[37m\u001b[0m \u001b[1m382s\u001b[0m 411ms/step - accuracy: 0.8615 - loss: 0.3784 - val_accuracy: 0.8836 - val_loss: 0.3121\n",
      "Epoch 10/20\n",
      "\u001b[1m  1/828\u001b[0m \u001b[37m━━━━━━━━━━━━━━━━━━━━\u001b[0m \u001b[1m22s\u001b[0m 28ms/step - accuracy: 0.8125 - loss: 0.4682\n",
      "Epoch 10: val_accuracy did not improve from 0.88511\n",
      "\u001b[1m828/828\u001b[0m \u001b[32m━━━━━━━━━━━━━━━━━━━━\u001b[0m\u001b[37m\u001b[0m \u001b[1m9s\u001b[0m 11ms/step - accuracy: 0.8125 - loss: 0.4682 - val_accuracy: 0.8842 - val_loss: 0.3122\n",
      "Epoch 11/20\n",
      "\u001b[1m828/828\u001b[0m \u001b[32m━━━━━━━━━━━━━━━━━━━━\u001b[0m\u001b[37m\u001b[0m \u001b[1m0s\u001b[0m 378ms/step - accuracy: 0.8722 - loss: 0.3538\n",
      "Epoch 11: val_accuracy did not improve from 0.88511\n",
      "\u001b[1m828/828\u001b[0m \u001b[32m━━━━━━━━━━━━━━━━━━━━\u001b[0m\u001b[37m\u001b[0m \u001b[1m381s\u001b[0m 421ms/step - accuracy: 0.8722 - loss: 0.3538 - val_accuracy: 0.8797 - val_loss: 0.3211\n",
      "Epoch 12/20\n",
      "\u001b[1m  1/828\u001b[0m \u001b[37m━━━━━━━━━━━━━━━━━━━━\u001b[0m \u001b[1m23s\u001b[0m 29ms/step - accuracy: 0.8438 - loss: 0.4423\n",
      "Epoch 12: val_accuracy did not improve from 0.88511\n",
      "\u001b[1m828/828\u001b[0m \u001b[32m━━━━━━━━━━━━━━━━━━━━\u001b[0m\u001b[37m\u001b[0m \u001b[1m9s\u001b[0m 11ms/step - accuracy: 0.8438 - loss: 0.4423 - val_accuracy: 0.8798 - val_loss: 0.3239\n",
      "\n",
      "Training finished.\n"
     ]
    },
    {
     "data": {
      "image/png": "[encoded data removed]",
      "text/plain": [
       "<Figure size 1200x400 with 2 Axes>"
      ]
     },
     "metadata": {},
     "output_type": "display_data"
    }
   ],
   "source": [
    "from tensorflow.keras.callbacks import ModelCheckpoint, EarlyStopping\n",
    "import matplotlib.pyplot as plt\n",
    "import os\n",
    "\n",
    "if 'GDRIVE_SAVE_DIR' in locals() and os.path.exists(GDRIVE_SAVE_DIR):\n",
    "    checkpoint_filename = 'best_weights_during_training_{epoch:02d}_{val_accuracy:.4f}.weights.h5'\n",
    "    checkpoint_filepath_drive = os.path.join(GDRIVE_SAVE_DIR, checkpoint_filename)\n",
    "\n",
    "    model_checkpoint_callback_drive = ModelCheckpoint(\n",
    "        filepath=checkpoint_filepath_drive, \n",
    "        save_weights_only=True, \n",
    "        monitor='val_accuracy', \n",
    "        mode='max',\n",
    "        save_best_only=True,\n",
    "        verbose=1 \n",
    "    )\n",
    "\n",
    "    early_stopping_callback = EarlyStopping(\n",
    "        monitor='val_accuracy',\n",
    "        patience=5,\n",
    "        mode='max', \n",
    "        restore_best_weights=True \n",
    "    )\n",
    "\n",
    "    epochs = 20 \n",
    "\n",
    "    if 'model' in locals() and model is not None and 'train_generator' in locals() and train_generator is not None and 'val_generator' in locals() and val_generator is not None and steps_per_epoch > 0 and validation_steps >= 0:\n",
    "        print(f\"\\nStarting training for a maximum of {epochs} epochs...\")\n",
    "\n",
    "        history = model.fit(\n",
    "            train_generator, \n",
    "            steps_per_epoch=steps_per_epoch, \n",
    "            epochs=epochs, \n",
    "            validation_data=val_generator,\n",
    "            validation_steps=validation_steps,\n",
    "            callbacks=[model_checkpoint_callback_drive, early_stopping_callback] \n",
    "        )\n",
    "\n",
    "        print(\"\\nTraining finished.\")\n",
    "\n",
    "        if history:\n",
    "            acc = history.history['accuracy']\n",
    "            val_acc = history.history['val_accuracy']\n",
    "            loss = history.history['loss']\n",
    "            val_loss = history.history['val_loss']\n",
    "            epochs_trained = len(history.history['loss'])\n",
    "            epochs_range = range(epochs_trained)\n",
    "\n",
    "\n",
    "            plt.figure(figsize=(12, 4))\n",
    "            plt.subplot(1, 2, 1)\n",
    "            plt.plot(epochs_range, acc, label='Training Accuracy')\n",
    "            plt.plot(epochs_range, val_acc, label='Validation Accuracy')\n",
    "            plt.legend(loc='lower right')\n",
    "            plt.title('Training and Validation Accuracy')\n",
    "            plt.xlabel(\"Epochs\")\n",
    "            plt.ylabel(\"Accuracy\")\n",
    "\n",
    "            plt.subplot(1, 2, 2)\n",
    "            plt.plot(epochs_range, loss, label='Training Loss')\n",
    "            plt.plot(epochs_range, val_loss, label='Validation Loss')\n",
    "            plt.legend(loc='upper right')\n",
    "            plt.title('Training and Validation Loss')\n",
    "            plt.xlabel(\"Epochs\")\n",
    "            plt.ylabel(\"Loss\")\n",
    "\n",
    "            plt.show()\n",
    "        else:\n",
    "            print(\"Training history not recorded.\")\n",
    "\n",
    "    else:\n",
    "        print(\"Cannot start training. Model, generators, or step counts are not available. Check previous cells (9, 10, 11).\")\n",
    "        history = None \n",
    "\n",
    "\n",
    "else:\n",
    "    print(\"Google Drive not mounted or save directory not accessible. Cannot save checkpoints.\")\n",
    "    print(\"Training will proceed WITHOUT saving checkpoints to Drive.\")\n",
    "    if 'model' in locals() and model is not None and 'train_generator' in locals() and train_generator is not None and 'val_generator' in locals() and val_generator is not None and steps_per_epoch > 0 and validation_steps >= 0:\n",
    "         print(f\"Starting training for a maximum of {epochs} epochs (no Drive checkpoints)...\")\n",
    "         history = model.fit(\n",
    "             train_generator,\n",
    "             steps_per_epoch=steps_per_epoch,\n",
    "             epochs=epochs,\n",
    "             validation_data=val_generator,\n",
    "             validation_steps=validation_steps\n",
    "         )\n",
    "         print(\"\\nTraining finished (no Drive checkpoints saved).\")\n",
    "         if history:\n",
    "             acc = history.history['accuracy']\n",
    "             val_acc = history.history['val_accuracy']\n",
    "             loss = history.history['loss']\n",
    "             val_loss = history.history['val_loss']\n",
    "             epochs_trained = len(history.history['loss'])\n",
    "             epochs_range = range(epochs_trained)\n",
    "             plt.figure(figsize=(12, 4))\n",
    "             plt.subplot(1, 2, 1)\n",
    "             plt.plot(epochs_range, acc, label='Training Accuracy')\n",
    "             plt.plot(epochs_range, val_acc, label='Validation Accuracy')\n",
    "             plt.legend(loc='lower right')\n",
    "             plt.title('Training and Validation Accuracy')\n",
    "             plt.xlabel(\"Epochs\")\n",
    "             plt.ylabel(\"Accuracy\")\n",
    "             plt.subplot(1, 2, 2)\n",
    "             plt.plot(epochs_range, loss, label='Training Loss')\n",
    "             plt.plot(epochs_range, val_loss, label='Validation Loss')\n",
    "             plt.legend(loc='upper right')\n",
    "             plt.title('Training and Validation Loss')\n",
    "             plt.xlabel(\"Epochs\")\n",
    "             plt.ylabel(\"Loss\")\n",
    "             plt.show()\n",
    "         else:\n",
    "              print(\"Training history not recorded.\")\n",
    "    else:\n",
    "         print(\"Cannot start training (even without checkpoints). Dependencies missing.\")\n",
    "         history = None"
   ]
  },
  {
   "cell_type": "code",
   "execution_count": null,
   "metadata": {
    "colab": {
     "base_uri": "https://localhost:8080/"
    },
    "executionInfo": {
     "elapsed": 8969,
     "status": "ok",
     "timestamp": 1746790046328,
     "user": {
      "displayName": "diaa tharwat",
      "userId": "02468971640804185060"
     },
     "user_tz": -180
    },
    "id": "NLmQhAyVzDt6",
    "outputId": "0d42f03f-2b17-4d0d-9274-4ec0b818b6bd"
   },
   "outputs": [
    {
     "name": "stdout",
     "output_type": "stream",
     "text": [
      "\n",
      "Evaluating final model on validation data:\n",
      "\u001b[1m207/207\u001b[0m \u001b[32m━━━━━━━━━━━━━━━━━━━━\u001b[0m\u001b[37m\u001b[0m \u001b[1m9s\u001b[0m 42ms/step - accuracy: 0.8831 - loss: 0.3056\n",
      "Validation Loss: 0.3152\n",
      "Validation Accuracy: 0.8851\n"
     ]
    }
   ],
   "source": [
    "\n",
    "if 'model' in locals() and model is not None and 'val_generator' in locals() and val_generator is not None and validation_steps >= 0:\n",
    "    print(\"\\nEvaluating final model on validation data:\")\n",
    "\n",
    "    loss, accuracy = model.evaluate(val_generator, steps=validation_steps)\n",
    "\n",
    "    print(f\"Validation Loss: {loss:.4f}\")\n",
    "    print(f\"Validation Accuracy: {accuracy:.4f}\")\n",
    "else:\n",
    "     print(\"Cannot evaluate model. Model, validation generator, or step counts not available. Check previous cells (10, 12).\")"
   ]
  },
  {
   "cell_type": "code",
   "execution_count": null,
   "metadata": {
    "colab": {
     "base_uri": "https://localhost:8080/"
    },
    "executionInfo": {
     "elapsed": 434,
     "status": "ok",
     "timestamp": 1746790311084,
     "user": {
      "displayName": "diaa tharwat",
      "userId": "02468971640804185060"
     },
     "user_tz": -180
    },
    "id": "7d0mXNb7zQCy",
    "outputId": "f3ad0f06-2a4c-4833-d209-88ed132a392f"
   },
   "outputs": [
    {
     "name": "stdout",
     "output_type": "stream",
     "text": [
      "\n",
      "Final model save directory checked/created: /content/drive/MyDrive/my_fashion_model_outputs/final_model_and_label_map\n",
      "Saving final model to: /content/drive/MyDrive/my_fashion_model_outputs/final_model_and_label_map/my_fashion_model.keras ...\n",
      "Final model saved successfully.\n",
      "Saving label map to: /content/drive/MyDrive/my_fashion_model_outputs/final_model_and_label_map/label_map.json ...\n",
      "Label map saved successfully.\n"
     ]
    }
   ],
   "source": [
    "import json\n",
    "import os\n",
    "import tensorflow as tf \n",
    "if 'GDRIVE_SAVE_DIR' in locals() and os.path.exists(GDRIVE_SAVE_DIR):\n",
    "    final_model_save_dir = os.path.join(GDRIVE_SAVE_DIR, 'final_model_and_label_map')\n",
    "    os.makedirs(final_model_save_dir, exist_ok=True)\n",
    "    print(f\"\\nFinal model save directory checked/created: {final_model_save_dir}\")\n",
    "    if 'model' in locals() and model is not None:\n",
    "        model_save_path_drive = os.path.join(final_model_save_dir, 'my_fashion_model.keras')\n",
    "        try:\n",
    "            print(f\"Saving final model to: {model_save_path_drive} ...\")\n",
    "            model.save(model_save_path_drive)\n",
    "            print(f\"Final model saved successfully.\")\n",
    "        except Exception as e:\n",
    "            print(f\"Error saving final model: {e}\")\n",
    "    else:\n",
    "        print(\"Cannot save final model. Model not available. Check Cell 11.\")\n",
    "\n",
    "\n",
    "    label_map_save_path_drive = os.path.join(final_model_save_dir, 'label_map.json')\n",
    "    if 'generator_label_map' in locals() and generator_label_map is not None:\n",
    "        try:\n",
    "            print(f\"Saving label map to: {label_map_save_path_drive} ...\")\n",
    "            json_compatible_map = {str(k): v for k, v in generator_label_map.items()}\n",
    "            with open(label_map_save_path_drive, 'w') as f:\n",
    "                json.dump(json_compatible_map, f, indent=4) \n",
    "            print(f\"Label map saved successfully.\")\n",
    "        except Exception as e:\n",
    "            print(f\"Error saving label map: {e}\")\n",
    "    else:\n",
    "        print(\"Cannot save label map. generator_label_map not available. Check Cell 9.\")\n",
    "\n",
    "else:\n",
    "    print(\"Google Drive not mounted or save directory not accessible. Cannot save final model and label map.\")"
   ]
  },
  {
   "cell_type": "code",
   "execution_count": null,
   "metadata": {
    "colab": {
     "base_uri": "https://localhost:8080/",
     "height": 654
    },
    "executionInfo": {
     "elapsed": 5295,
     "status": "ok",
     "timestamp": 1746790495974,
     "user": {
      "displayName": "diaa tharwat",
      "userId": "02468971640804185060"
     },
     "user_tz": -180
    },
    "id": "8fVro573zUx0",
    "outputId": "587ad197-f9e1-4da4-d69e-3a4e4f8cedea"
   },
   "outputs": [
    {
     "name": "stdout",
     "output_type": "stream",
     "text": [
      "\n",
      "--- Testing Prediction on a New Image in Colab ---\n",
      "To test, upload an image using the Files icon (left panel) -> Upload icon (arrow up).\n",
      "Then, copy the path of the uploaded file (right-click on the file -> Copy path) and paste it below.\n",
      "\n",
      "Attempting prediction on image: /content/10013.jpg\n",
      "Loading image: /content/10013.jpg\n",
      "Making prediction...\n",
      "\u001b[1m1/1\u001b[0m \u001b[32m━━━━━━━━━━━━━━━━━━━━\u001b[0m\u001b[37m\u001b[0m \u001b[1m4s\u001b[0m 4s/step\n",
      "\n",
      "Prediction Result:\n",
      "  Predicted Article Type: Tshirts\n",
      "  Confidence: 1.0000\n"
     ]
    },
    {
     "data": {
      "image/png": "[encoded data removed]",
      "text/plain": [
       "<Figure size 640x480 with 1 Axes>"
      ]
     },
     "metadata": {},
     "output_type": "display_data"
    }
   ],
   "source": [
    "from PIL import Image \n",
    "import numpy as np\n",
    "import matplotlib.pyplot as plt \n",
    "import os \n",
    "import tensorflow as tf \n",
    "\n",
    "if 'model' not in locals() or model is None:\n",
    "    print(\"Error: Model is not available. Please ensure Cells 11-14 ran correctly.\")\n",
    "elif 'generator_label_map' not in locals() or generator_label_map is None:\n",
    "     print(\"Error: Label map is not available. Please ensure Cell 9 ran correctly.\")\n",
    "else:\n",
    "    IMG_HEIGHT = 224 \n",
    "    IMG_WIDTH = 224\n",
    "\n",
    "    def predict_single_image_colab(image_path, model, label_map, img_height, img_width):\n",
    "        \"\"\"\n",
    "        Loads, preprocesses, and predicts the class of a single image in Colab.\n",
    "        \"\"\"\n",
    "        try:\n",
    "            print(f\"Loading image: {image_path}\")\n",
    "            img = Image.open(image_path)\n",
    "            if img.mode != 'RGB':\n",
    "                img = img.convert('RGB')\n",
    "            img = img.resize((img_width, img_height)) \n",
    "            img_array = np.array(img) / 255.0 \n",
    "            img_array = np.expand_dims(img_array, axis=0)\n",
    "            print(\"Making prediction...\")\n",
    "            predictions = model.predict(img_array) \n",
    "\n",
    "            predicted_class_index = np.argmax(predictions, axis=1)[0] \n",
    "            confidence = np.max(predictions, axis=1)[0] \n",
    "\n",
    "            predicted_article_type = label_map.get(predicted_class_index, f\"Unknown Index: {predicted_class_index}\")\n",
    "\n",
    "            return predicted_article_type, float(confidence) \n",
    "\n",
    "        except FileNotFoundError:\n",
    "            print(f\"Error: Image file not found at {image_path}\")\n",
    "            return None, None\n",
    "        except Exception as e:\n",
    "            print(f\"An error occurred during prediction: {e}\")\n",
    "            return None, None\n",
    "\n",
    "    print(\"\\n--- Testing Prediction on a New Image in Colab ---\")\n",
    "    print(\"To test, upload an image using the Files icon (left panel) -> Upload icon (arrow up).\")\n",
    "    print(\"Then, copy the path of the uploaded file (right-click on the file -> Copy path) and paste it below.\")\n",
    "\n",
    "    your_test_image_path_colab = '/content/10013.jpg' \n",
    "\n",
    "    if os.path.exists(your_test_image_path_colab):\n",
    "        print(f\"\\nAttempting prediction on image: {your_test_image_path_colab}\")\n",
    "\n",
    "        predicted_label, confidence = predict_single_image_colab(\n",
    "            your_test_image_path_colab,\n",
    "            model,\n",
    "            generator_label_map, \n",
    "            IMG_HEIGHT, IMG_WIDTH\n",
    "        )\n",
    "\n",
    "        if predicted_label:\n",
    "            print(f\"\\nPrediction Result:\")\n",
    "            print(f\"  Predicted Article Type: {predicted_label}\")\n",
    "            print(f\"  Confidence: {confidence:.4f}\")\n",
    "\n",
    "            \n",
    "            try:\n",
    "                img_display = Image.open(your_test_image_path_colab)\n",
    "                plt.imshow(img_display)\n",
    "                plt.title(f\"Predicted: {predicted_label} ({confidence:.2f})\")\n",
    "                plt.axis('off') \n",
    "                plt.show() \n",
    "            except Exception as e:\n",
    "                 print(f\"Could not display image: {e}\")\n",
    "\n",
    "    else:\n",
    "        print(f\"\\nError: Test image file not found at the specified path: {your_test_image_path_colab}\")\n",
    "        print(\"Please double-check the file path and ensure you have uploaded the image to /content/.\")"
   ]
  },
  {
   "cell_type": "code",
   "execution_count": null,
   "metadata": {
    "id": "XOvZH5oG1ASy"
   },
   "outputs": [],
   "source": []
  }
 ],
 "metadata": {
  "accelerator": "GPU",
  "colab": {
   "authorship_tag": "ABX9TyPBoo/BLd7/8Ojw/jD2hpSU",
   "gpuType": "T4",
   "provenance": []
  },
  "kernelspec": {
   "display_name": "Python 3",
   "name": "python3"
  },
  "language_info": {
   "name": "python"
  }
 },
 "nbformat": 4,
 "nbformat_minor": 0
}
